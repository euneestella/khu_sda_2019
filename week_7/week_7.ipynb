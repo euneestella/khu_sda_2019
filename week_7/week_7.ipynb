{
 "cells": [
  {
   "cell_type": "markdown",
   "metadata": {},
   "source": [
    "# 👩‍💻 양적 변수의 통계와 두 변수 간의 연관\n",
    "## ✔️ R의 반올림\n",
    "```summary```에서의 평균이 ```mean```을 사용한 결과와 다른 경우가 있다.\n",
    "R은 5를 반올림할 때 **가장 가까운 짝수값**을 취한다.\n",
    "예를 들어, ```1992.5```를 R애서 소수 첫째 자리에서 반올림하면 ```1993```이 아니라 ```1992```로 반올림된다."
   ]
  },
  {
   "cell_type": "markdown",
   "metadata": {},
   "source": [
    "## ✔️ 양적 변수의 기초 통계"
   ]
  },
  {
   "cell_type": "code",
   "execution_count": 1,
   "metadata": {},
   "outputs": [],
   "source": [
    "setwd(\"C:/Users/eunee/khu_sda_2019/data\")\n",
    "load(\"demog_5var.RData\")\n",
    "attach(ndemog)"
   ]
  },
  {
   "cell_type": "markdown",
   "metadata": {},
   "source": [
    "작업 디렉토리를 먼저 변경한 다음, ```demog_5var.RData```를 불러온다.     \n",
    "이후 작업의 편의를 위해 ```ndemog```를 ```attach```한다"
   ]
  },
  {
   "cell_type": "markdown",
   "metadata": {},
   "source": [
    "### ◽ ```summary```"
   ]
  },
  {
   "cell_type": "code",
   "execution_count": 2,
   "metadata": {},
   "outputs": [
    {
     "data": {
      "text/plain": [
       "   Min. 1st Qu.  Median    Mean 3rd Qu.    Max. \n",
       "   1970    1982    1994    1994    2006    2018 "
      ]
     },
     "metadata": {},
     "output_type": "display_data"
    }
   ],
   "source": [
    "summary(year)"
   ]
  },
  {
   "cell_type": "markdown",
   "metadata": {},
   "source": [
    "최솟값, 1분위, 2분위(중간값), 평균, 3분위, 최댓값에 대한 정보를 제공한다."
   ]
  },
  {
   "cell_type": "markdown",
   "metadata": {},
   "source": [
    "### ◽ ```quantile()```"
   ]
  },
  {
   "cell_type": "code",
   "execution_count": 3,
   "metadata": {},
   "outputs": [
    {
     "data": {
      "text/html": [
       "<dl class=dl-horizontal>\n",
       "\t<dt>0%</dt>\n",
       "\t\t<dd>1970</dd>\n",
       "\t<dt>25%</dt>\n",
       "\t\t<dd>1982</dd>\n",
       "\t<dt>50%</dt>\n",
       "\t\t<dd>1994</dd>\n",
       "\t<dt>75%</dt>\n",
       "\t\t<dd>2006</dd>\n",
       "\t<dt>100%</dt>\n",
       "\t\t<dd>2018</dd>\n",
       "</dl>\n"
      ],
      "text/latex": [
       "\\begin{description*}\n",
       "\\item[0\\textbackslash{}\\%] 1970\n",
       "\\item[25\\textbackslash{}\\%] 1982\n",
       "\\item[50\\textbackslash{}\\%] 1994\n",
       "\\item[75\\textbackslash{}\\%] 2006\n",
       "\\item[100\\textbackslash{}\\%] 2018\n",
       "\\end{description*}\n"
      ],
      "text/markdown": [
       "0%\n",
       ":   197025%\n",
       ":   198250%\n",
       ":   199475%\n",
       ":   2006100%\n",
       ":   2018\n",
       "\n"
      ],
      "text/plain": [
       "  0%  25%  50%  75% 100% \n",
       "1970 1982 1994 2006 2018 "
      ]
     },
     "metadata": {},
     "output_type": "display_data"
    }
   ],
   "source": [
    "quantile(year)"
   ]
  },
  {
   "cell_type": "markdown",
   "metadata": {},
   "source": [
    "```quantile```로 5개 요약 값을 확인할 수 있다. 만약 특정 비율에 있는 값을 보고 싶다면 어떻게 해야 할까?"
   ]
  },
  {
   "cell_type": "code",
   "execution_count": 4,
   "metadata": {},
   "outputs": [
    {
     "data": {
      "text/html": [
       "<strong>50%:</strong> 1994"
      ],
      "text/latex": [
       "\\textbf{50\\textbackslash{}\\%:} 1994"
      ],
      "text/markdown": [
       "**50%:** 1994"
      ],
      "text/plain": [
       " 50% \n",
       "1994 "
      ]
     },
     "metadata": {},
     "output_type": "display_data"
    }
   ],
   "source": [
    "quantile(year, probs = 0.5)"
   ]
  },
  {
   "cell_type": "code",
   "execution_count": 5,
   "metadata": {},
   "outputs": [
    {
     "data": {
      "text/html": [
       "<strong>60%:</strong> 1998.8"
      ],
      "text/latex": [
       "\\textbf{60\\textbackslash{}\\%:} 1998.8"
      ],
      "text/markdown": [
       "**60%:** 1998.8"
      ],
      "text/plain": [
       "   60% \n",
       "1998.8 "
      ]
     },
     "metadata": {},
     "output_type": "display_data"
    }
   ],
   "source": [
    "quantile(year, probs = 0.6)"
   ]
  },
  {
   "cell_type": "markdown",
   "metadata": {},
   "source": [
    "```quntile``` 함수에 ```probs``` 옵션을 주면 쉽게 특정 비율에 있는 값을 볼 수 있다. 이를 응용해서 10분위 수 모두를 확인할 수 있는 방법이 있을까?"
   ]
  },
  {
   "cell_type": "code",
   "execution_count": 6,
   "metadata": {},
   "outputs": [
    {
     "data": {
      "text/html": [
       "<dl class=dl-horizontal>\n",
       "\t<dt>10%</dt>\n",
       "\t\t<dd>1974.8</dd>\n",
       "\t<dt>20%</dt>\n",
       "\t\t<dd>1979.6</dd>\n",
       "\t<dt>30%</dt>\n",
       "\t\t<dd>1984.4</dd>\n",
       "\t<dt>40%</dt>\n",
       "\t\t<dd>1989.2</dd>\n",
       "\t<dt>50%</dt>\n",
       "\t\t<dd>1994</dd>\n",
       "\t<dt>60%</dt>\n",
       "\t\t<dd>1998.8</dd>\n",
       "\t<dt>70%</dt>\n",
       "\t\t<dd>2003.6</dd>\n",
       "\t<dt>80%</dt>\n",
       "\t\t<dd>2008.4</dd>\n",
       "\t<dt>90%</dt>\n",
       "\t\t<dd>2013.2</dd>\n",
       "\t<dt>100%</dt>\n",
       "\t\t<dd>2018</dd>\n",
       "</dl>\n"
      ],
      "text/latex": [
       "\\begin{description*}\n",
       "\\item[10\\textbackslash{}\\%] 1974.8\n",
       "\\item[20\\textbackslash{}\\%] 1979.6\n",
       "\\item[30\\textbackslash{}\\%] 1984.4\n",
       "\\item[40\\textbackslash{}\\%] 1989.2\n",
       "\\item[50\\textbackslash{}\\%] 1994\n",
       "\\item[60\\textbackslash{}\\%] 1998.8\n",
       "\\item[70\\textbackslash{}\\%] 2003.6\n",
       "\\item[80\\textbackslash{}\\%] 2008.4\n",
       "\\item[90\\textbackslash{}\\%] 2013.2\n",
       "\\item[100\\textbackslash{}\\%] 2018\n",
       "\\end{description*}\n"
      ],
      "text/markdown": [
       "10%\n",
       ":   1974.820%\n",
       ":   1979.630%\n",
       ":   1984.440%\n",
       ":   1989.250%\n",
       ":   199460%\n",
       ":   1998.870%\n",
       ":   2003.680%\n",
       ":   2008.490%\n",
       ":   2013.2100%\n",
       ":   2018\n",
       "\n"
      ],
      "text/plain": [
       "   10%    20%    30%    40%    50%    60%    70%    80%    90%   100% \n",
       "1974.8 1979.6 1984.4 1989.2 1994.0 1998.8 2003.6 2008.4 2013.2 2018.0 "
      ]
     },
     "metadata": {},
     "output_type": "display_data"
    }
   ],
   "source": [
    "quantile(year, probs = 1:10*0.1)"
   ]
  },
  {
   "cell_type": "markdown",
   "metadata": {},
   "source": [
    "R과 다른 통계 패키지(SAS 등) 통계값을 구하는 방식이 다를 수 있다. 이럴 때에는 함수의 초기값을 ```?```을 통해 확인한 다음, 적절하게 사용할 필요가 있다."
   ]
  },
  {
   "cell_type": "markdown",
   "metadata": {},
   "source": [
    "### ◽ ```quantile```에서 결측값이 있을 때"
   ]
  },
  {
   "cell_type": "code",
   "execution_count": 7,
   "metadata": {
    "scrolled": true
   },
   "outputs": [
    {
     "ename": "ERROR",
     "evalue": "Error in quantile.default(le0): missing values and NaN's not allowed if 'na.rm' is FALSE\n",
     "output_type": "error",
     "traceback": [
      "Error in quantile.default(le0): missing values and NaN's not allowed if 'na.rm' is FALSE\nTraceback:\n",
      "1. quantile(le0)",
      "2. quantile.default(le0)",
      "3. stop(\"missing values and NaN's not allowed if 'na.rm' is FALSE\")"
     ]
    }
   ],
   "source": [
    "quantile(le0)"
   ]
  },
  {
   "cell_type": "code",
   "execution_count": 8,
   "metadata": {},
   "outputs": [
    {
     "data": {
      "text/html": [
       "<ol class=list-inline>\n",
       "\t<li>62.3</li>\n",
       "\t<li>62.7</li>\n",
       "\t<li>63.1</li>\n",
       "\t<li>63.5</li>\n",
       "\t<li>63.9</li>\n",
       "\t<li>64.2</li>\n",
       "\t<li>64.6</li>\n",
       "\t<li>65</li>\n",
       "\t<li>65.3</li>\n",
       "\t<li>65.6</li>\n",
       "\t<li>66.1</li>\n",
       "\t<li>66.7</li>\n",
       "\t<li>67.2</li>\n",
       "\t<li>67.7</li>\n",
       "\t<li>68.3</li>\n",
       "\t<li>68.9</li>\n",
       "\t<li>69.5</li>\n",
       "\t<li>70.1</li>\n",
       "\t<li>70.7</li>\n",
       "\t<li>71.2</li>\n",
       "\t<li>71.7</li>\n",
       "\t<li>72.2</li>\n",
       "\t<li>72.6</li>\n",
       "\t<li>73.1</li>\n",
       "\t<li>73.5</li>\n",
       "\t<li>73.8</li>\n",
       "\t<li>74.2</li>\n",
       "\t<li>74.7</li>\n",
       "\t<li>75.1</li>\n",
       "\t<li>75.5</li>\n",
       "\t<li>76</li>\n",
       "\t<li>76.5</li>\n",
       "\t<li>76.8</li>\n",
       "\t<li>77.3</li>\n",
       "\t<li>77.8</li>\n",
       "\t<li>78.2</li>\n",
       "\t<li>78.8</li>\n",
       "\t<li>79.2</li>\n",
       "\t<li>79.6</li>\n",
       "\t<li>80</li>\n",
       "\t<li>80.2</li>\n",
       "\t<li>80.6</li>\n",
       "\t<li>80.9</li>\n",
       "\t<li>81.4</li>\n",
       "\t<li>81.8</li>\n",
       "\t<li>82.1</li>\n",
       "\t<li>82.4</li>\n",
       "\t<li>82.7</li>\n",
       "\t<li>&lt;NA&gt;</li>\n",
       "</ol>\n"
      ],
      "text/latex": [
       "\\begin{enumerate*}\n",
       "\\item 62.3\n",
       "\\item 62.7\n",
       "\\item 63.1\n",
       "\\item 63.5\n",
       "\\item 63.9\n",
       "\\item 64.2\n",
       "\\item 64.6\n",
       "\\item 65\n",
       "\\item 65.3\n",
       "\\item 65.6\n",
       "\\item 66.1\n",
       "\\item 66.7\n",
       "\\item 67.2\n",
       "\\item 67.7\n",
       "\\item 68.3\n",
       "\\item 68.9\n",
       "\\item 69.5\n",
       "\\item 70.1\n",
       "\\item 70.7\n",
       "\\item 71.2\n",
       "\\item 71.7\n",
       "\\item 72.2\n",
       "\\item 72.6\n",
       "\\item 73.1\n",
       "\\item 73.5\n",
       "\\item 73.8\n",
       "\\item 74.2\n",
       "\\item 74.7\n",
       "\\item 75.1\n",
       "\\item 75.5\n",
       "\\item 76\n",
       "\\item 76.5\n",
       "\\item 76.8\n",
       "\\item 77.3\n",
       "\\item 77.8\n",
       "\\item 78.2\n",
       "\\item 78.8\n",
       "\\item 79.2\n",
       "\\item 79.6\n",
       "\\item 80\n",
       "\\item 80.2\n",
       "\\item 80.6\n",
       "\\item 80.9\n",
       "\\item 81.4\n",
       "\\item 81.8\n",
       "\\item 82.1\n",
       "\\item 82.4\n",
       "\\item 82.7\n",
       "\\item <NA>\n",
       "\\end{enumerate*}\n"
      ],
      "text/markdown": [
       "1. 62.3\n",
       "2. 62.7\n",
       "3. 63.1\n",
       "4. 63.5\n",
       "5. 63.9\n",
       "6. 64.2\n",
       "7. 64.6\n",
       "8. 65\n",
       "9. 65.3\n",
       "10. 65.6\n",
       "11. 66.1\n",
       "12. 66.7\n",
       "13. 67.2\n",
       "14. 67.7\n",
       "15. 68.3\n",
       "16. 68.9\n",
       "17. 69.5\n",
       "18. 70.1\n",
       "19. 70.7\n",
       "20. 71.2\n",
       "21. 71.7\n",
       "22. 72.2\n",
       "23. 72.6\n",
       "24. 73.1\n",
       "25. 73.5\n",
       "26. 73.8\n",
       "27. 74.2\n",
       "28. 74.7\n",
       "29. 75.1\n",
       "30. 75.5\n",
       "31. 76\n",
       "32. 76.5\n",
       "33. 76.8\n",
       "34. 77.3\n",
       "35. 77.8\n",
       "36. 78.2\n",
       "37. 78.8\n",
       "38. 79.2\n",
       "39. 79.6\n",
       "40. 80\n",
       "41. 80.2\n",
       "42. 80.6\n",
       "43. 80.9\n",
       "44. 81.4\n",
       "45. 81.8\n",
       "46. 82.1\n",
       "47. 82.4\n",
       "48. 82.7\n",
       "49. &lt;NA&gt;\n",
       "\n",
       "\n"
      ],
      "text/plain": [
       " [1] 62.3 62.7 63.1 63.5 63.9 64.2 64.6 65.0 65.3 65.6 66.1 66.7 67.2 67.7 68.3\n",
       "[16] 68.9 69.5 70.1 70.7 71.2 71.7 72.2 72.6 73.1 73.5 73.8 74.2 74.7 75.1 75.5\n",
       "[31] 76.0 76.5 76.8 77.3 77.8 78.2 78.8 79.2 79.6 80.0 80.2 80.6 80.9 81.4 81.8\n",
       "[46] 82.1 82.4 82.7   NA"
      ]
     },
     "metadata": {},
     "output_type": "display_data"
    }
   ],
   "source": [
    "le0"
   ]
  },
  {
   "cell_type": "markdown",
   "metadata": {},
   "source": [
    "```le0```의 맨 마지막 값이 ```NA```, 즉 결측값이기 때문에 ```quantile```에서 오류가 나타난다. 이런 경우에는 ```na.rm = TRUE``` 명령어를 적용하여 결측값을 제거하고 분석할 필요가 있다."
   ]
  },
  {
   "cell_type": "code",
   "execution_count": 9,
   "metadata": {},
   "outputs": [
    {
     "data": {
      "text/html": [
       "<dl class=dl-horizontal>\n",
       "\t<dt>0%</dt>\n",
       "\t\t<dd>62.3</dd>\n",
       "\t<dt>25%</dt>\n",
       "\t\t<dd>67.075</dd>\n",
       "\t<dt>50%</dt>\n",
       "\t\t<dd>73.3</dd>\n",
       "\t<dt>75%</dt>\n",
       "\t\t<dd>78.35</dd>\n",
       "\t<dt>100%</dt>\n",
       "\t\t<dd>82.7</dd>\n",
       "</dl>\n"
      ],
      "text/latex": [
       "\\begin{description*}\n",
       "\\item[0\\textbackslash{}\\%] 62.3\n",
       "\\item[25\\textbackslash{}\\%] 67.075\n",
       "\\item[50\\textbackslash{}\\%] 73.3\n",
       "\\item[75\\textbackslash{}\\%] 78.35\n",
       "\\item[100\\textbackslash{}\\%] 82.7\n",
       "\\end{description*}\n"
      ],
      "text/markdown": [
       "0%\n",
       ":   62.325%\n",
       ":   67.07550%\n",
       ":   73.375%\n",
       ":   78.35100%\n",
       ":   82.7\n",
       "\n"
      ],
      "text/plain": [
       "    0%    25%    50%    75%   100% \n",
       "62.300 67.075 73.300 78.350 82.700 "
      ]
     },
     "metadata": {},
     "output_type": "display_data"
    }
   ],
   "source": [
    "quantile(le0, na.rm = TRUE)"
   ]
  },
  {
   "cell_type": "markdown",
   "metadata": {},
   "source": [
    "정상적으로 ```quantile```이 출력된다."
   ]
  },
  {
   "cell_type": "markdown",
   "metadata": {},
   "source": [
    "### ◽ 평균과 표준편차\n",
    "특히 표준편차를 구할 때, 사례 수(n)가 아니라 사례 수에서 1을 뺀 값(n-1)로 나누어 준다는 점에 유의하자. 우리가 다루고 있는 자료는 모집단 자료가 아니라 표본 자료이기 때문이다."
   ]
  },
  {
   "cell_type": "markdown",
   "metadata": {},
   "source": [
    "## ✔️ 두 변수의 관계에 관한 기초 통계"
   ]
  },
  {
   "cell_type": "markdown",
   "metadata": {},
   "source": [
    "|  <center> </center> |  <center>범주형 종속 변수</center> |  <center> 양적 종속 변수 </center> | <center>  </center>|\n",
    "|:--------|:--------:|--------:|--------:|\n",
    "|<center>범주형 설명 변수</center> | <center> 집단별 비율 비교 </center> | <center> 집단별 평균 비교 </center>|\n",
    "|<center>양적 설명 변수</center> | <center> 설명 변수를 범주화한 후 집단별 비율 비교 </center> | <center>설명 변수를 범주화한 후 집단별 평균 비교 / 상관계수 / 최소제곱법 단순 회귀 계수</center> |\n"
   ]
  },
  {
   "cell_type": "markdown",
   "metadata": {},
   "source": [
    "### ◽ 집단별 평균 비교 (범주형 설명 변수 & 양적 종속 변수) - ```tapply``` 이용"
   ]
  },
  {
   "cell_type": "code",
   "execution_count": 10,
   "metadata": {},
   "outputs": [
    {
     "data": {
      "text/html": [
       "<table>\n",
       "<thead><tr><th scope=col>1970</th><th scope=col>1971</th><th scope=col>1972</th><th scope=col>1973</th><th scope=col>1974</th><th scope=col>1975</th><th scope=col>1976</th><th scope=col>1977</th><th scope=col>1978</th><th scope=col>1979</th><th scope=col>...</th><th scope=col>2009</th><th scope=col>2010</th><th scope=col>2011</th><th scope=col>2012</th><th scope=col>2013</th><th scope=col>2014</th><th scope=col>2015</th><th scope=col>2016</th><th scope=col>2017</th><th scope=col>2018</th></tr></thead>\n",
       "<tbody>\n",
       "\t<tr><td>4.53 </td><td>4.54 </td><td>4.12 </td><td>4.07 </td><td>3.77 </td><td>3.43 </td><td>3    </td><td>2.99 </td><td>2.64 </td><td>2.9  </td><td>...  </td><td>1.149</td><td>1.226</td><td>1.244</td><td>1.297</td><td>1.187</td><td>1.205</td><td>1.239</td><td>1.172</td><td>1.052</td><td>0.977</td></tr>\n",
       "</tbody>\n",
       "</table>\n"
      ],
      "text/latex": [
       "\\begin{tabular}{lllllllllllllllllllllllllllllllllllllllllllllllll}\n",
       " 1970 & 1971 & 1972 & 1973 & 1974 & 1975 & 1976 & 1977 & 1978 & 1979 & ... & 2009 & 2010 & 2011 & 2012 & 2013 & 2014 & 2015 & 2016 & 2017 & 2018\\\\\n",
       "\\hline\n",
       "\t 4.53  & 4.54  & 4.12  & 4.07  & 3.77  & 3.43  & 3     & 2.99  & 2.64  & 2.9   & ...   & 1.149 & 1.226 & 1.244 & 1.297 & 1.187 & 1.205 & 1.239 & 1.172 & 1.052 & 0.977\\\\\n",
       "\\end{tabular}\n"
      ],
      "text/markdown": [
       "\n",
       "1970 | 1971 | 1972 | 1973 | 1974 | 1975 | 1976 | 1977 | 1978 | 1979 | ... | 2009 | 2010 | 2011 | 2012 | 2013 | 2014 | 2015 | 2016 | 2017 | 2018 | \n",
       "|---|\n",
       "| 4.53  | 4.54  | 4.12  | 4.07  | 3.77  | 3.43  | 3     | 2.99  | 2.64  | 2.9   | ...   | 1.149 | 1.226 | 1.244 | 1.297 | 1.187 | 1.205 | 1.239 | 1.172 | 1.052 | 0.977 | \n",
       "\n",
       "\n"
      ],
      "text/plain": [
       "     1970 1971 1972 1973 1974 1975 1976 1977 1978 1979 ... 2009  2010  2011 \n",
       "[1,] 4.53 4.54 4.12 4.07 3.77 3.43 3    2.99 2.64 2.9  ... 1.149 1.226 1.244\n",
       "     2012  2013  2014  2015  2016  2017  2018 \n",
       "[1,] 1.297 1.187 1.205 1.239 1.172 1.052 0.977"
      ]
     },
     "metadata": {},
     "output_type": "display_data"
    }
   ],
   "source": [
    "t(tapply(tfr, year, mean))"
   ]
  },
  {
   "cell_type": "code",
   "execution_count": 11,
   "metadata": {},
   "outputs": [
    {
     "data": {
      "text/html": [
       "<pre class=language-r><code>function (X, INDEX, FUN = NULL, ..., default = NA, simplify = TRUE) \n",
       "NULL</code></pre>"
      ],
      "text/latex": [
       "\\begin{minted}{r}\n",
       "function (X, INDEX, FUN = NULL, ..., default = NA, simplify = TRUE) \n",
       "NULL\n",
       "\\end{minted}"
      ],
      "text/markdown": [
       "```r\n",
       "function (X, INDEX, FUN = NULL, ..., default = NA, simplify = TRUE) \n",
       "NULL\n",
       "```"
      ],
      "text/plain": [
       "function (X, INDEX, FUN = NULL, ..., default = NA, simplify = TRUE) \n",
       "NULL"
      ]
     },
     "metadata": {},
     "output_type": "display_data"
    }
   ],
   "source": [
    "args(tapply)"
   ]
  },
  {
   "cell_type": "markdown",
   "metadata": {},
   "source": [
    "```tapply```는 ```양적 종속 변수```, ```범주형 설명 변수```, ```사용하고자 하는 함수``` 순으로 작성한다.         \n",
    "위 사례에서, ```tapply```는 ```mean``` 함수를 ```year```에 따라 ```tfr```에 적용한 것이다."
   ]
  },
  {
   "cell_type": "markdown",
   "metadata": {},
   "source": [
    "### ◽ 상관계수 (양적 설명 변수 & 양적 종속 변수) - ```cor``` 이용"
   ]
  },
  {
   "cell_type": "code",
   "execution_count": 12,
   "metadata": {},
   "outputs": [
    {
     "data": {
      "text/html": [
       "0.898882494175511"
      ],
      "text/latex": [
       "0.898882494175511"
      ],
      "text/markdown": [
       "0.898882494175511"
      ],
      "text/plain": [
       "[1] 0.8988825"
      ]
     },
     "metadata": {},
     "output_type": "display_data"
    }
   ],
   "source": [
    "cor(cdr, tfr)"
   ]
  },
  {
   "cell_type": "code",
   "execution_count": 13,
   "metadata": {},
   "outputs": [
    {
     "data": {
      "text/html": [
       "<pre class=language-r><code>function (x, y = NULL, use = \"everything\", method = c(\"pearson\", \n",
       "<span style=white-space:pre-wrap>    \"kendall\", \"spearman\")) </span>\n",
       "NULL</code></pre>"
      ],
      "text/latex": [
       "\\begin{minted}{r}\n",
       "function (x, y = NULL, use = \"everything\", method = c(\"pearson\", \n",
       "    \"kendall\", \"spearman\")) \n",
       "NULL\n",
       "\\end{minted}"
      ],
      "text/markdown": [
       "```r\n",
       "function (x, y = NULL, use = \"everything\", method = c(\"pearson\", \n",
       "    \"kendall\", \"spearman\")) \n",
       "NULL\n",
       "```"
      ],
      "text/plain": [
       "function (x, y = NULL, use = \"everything\", method = c(\"pearson\", \n",
       "    \"kendall\", \"spearman\")) \n",
       "NULL"
      ]
     },
     "metadata": {},
     "output_type": "display_data"
    }
   ],
   "source": [
    "args(cor)"
   ]
  },
  {
   "cell_type": "markdown",
   "metadata": {},
   "source": [
    "```cor```는 ```양적 설명 변수```, ```양적 종속 변수``` 순으로 작성한다.     \n",
    "상관계수는 -1과 1 사이의 값을 가지며, 절댓값이 클수록 두 변수 사이의 **선형 관계**가 뚜렷하다는 것을 의미한다. 따라서 두 양적 변수에 관한 통계에 관해서는 **산점도**를 그리는 습관을 들여야 한다."
   ]
  },
  {
   "cell_type": "code",
   "execution_count": 14,
   "metadata": {},
   "outputs": [
    {
     "data": {
      "text/html": [
       "<table>\n",
       "<thead><tr><th></th><th scope=col>cdr</th><th scope=col>tfr</th><th scope=col>le0</th></tr></thead>\n",
       "<tbody>\n",
       "\t<tr><th scope=row>cdr</th><td> 1.0000000</td><td> 0.9075706</td><td>-0.8462066</td></tr>\n",
       "\t<tr><th scope=row>tfr</th><td> 0.9075706</td><td> 1.0000000</td><td>-0.8659856</td></tr>\n",
       "\t<tr><th scope=row>le0</th><td>-0.8462066</td><td>-0.8659856</td><td> 1.0000000</td></tr>\n",
       "</tbody>\n",
       "</table>\n"
      ],
      "text/latex": [
       "\\begin{tabular}{r|lll}\n",
       "  & cdr & tfr & le0\\\\\n",
       "\\hline\n",
       "\tcdr &  1.0000000 &  0.9075706 & -0.8462066\\\\\n",
       "\ttfr &  0.9075706 &  1.0000000 & -0.8659856\\\\\n",
       "\tle0 & -0.8462066 & -0.8659856 &  1.0000000\\\\\n",
       "\\end{tabular}\n"
      ],
      "text/markdown": [
       "\n",
       "| <!--/--> | cdr | tfr | le0 | \n",
       "|---|---|---|\n",
       "| cdr |  1.0000000 |  0.9075706 | -0.8462066 | \n",
       "| tfr |  0.9075706 |  1.0000000 | -0.8659856 | \n",
       "| le0 | -0.8462066 | -0.8659856 |  1.0000000 | \n",
       "\n",
       "\n"
      ],
      "text/plain": [
       "    cdr        tfr        le0       \n",
       "cdr  1.0000000  0.9075706 -0.8462066\n",
       "tfr  0.9075706  1.0000000 -0.8659856\n",
       "le0 -0.8462066 -0.8659856  1.0000000"
      ]
     },
     "metadata": {},
     "output_type": "display_data"
    }
   ],
   "source": [
    "cor(cbind(cdr, tfr, le0), use = \"complete.obs\")"
   ]
  },
  {
   "cell_type": "markdown",
   "metadata": {},
   "source": [
    "여러 변수의 상관계수를 보기 위해서는 ```cbind``` 명령어를 함께 사용한다.         \n",
    "```use = \"complete.obs\"``` :  마지막 결측값을 제거하고 상관관계를 구한다. (여기서는 ```le0```의 마지막 변수)           \n",
    "```use = \"pairwise.complete.obs\"``` : 결측값이 있는 변수와 상관관계를 구할 때는 결측값을 제거하고 상관관계를 구하되, 그 외 변수끼리 상관관계를 구할 때에는 모든 사례를 사용한다."
   ]
  },
  {
   "cell_type": "markdown",
   "metadata": {},
   "source": [
    "## ✔️ 두 변수의 관계에 관한 가설 검정"
   ]
  },
  {
   "cell_type": "markdown",
   "metadata": {},
   "source": [
    "|  <center> </center> |  <center>범주형 종속 변수</center> |  <center> 양적 종속 변수 </center> | <center>  </center>|\n",
    "|:--------|:--------:|--------:|--------:|\n",
    "|<center>범주형 설명 변수</center> | <center> Z 검정, 카이제곱 검정 </center> | <center> t 검정, F 검정 </center>|\n",
    "|<center>양적 설명 변수</center> | <center> 설명 변수 범주화 후 Z 검정, 카이제곱 검정 </center> | <center> 설명 변수 범주화 후 t 검정, F 검정 / 두 변수 모두 범주화 후 Z 검정, 카이제곱 검정</center> |"
   ]
  },
  {
   "cell_type": "markdown",
   "metadata": {},
   "source": [
    "### ◽ 카이제곱 검정\n",
    "집단간 비율을 비교하는 검정 방법으로, **영가설**은 설명 변수나 종속 변수의 범주 수에 제한 없이 두 변수가 **독립**.        \n",
    "Z 검정은 설명 변수와 종속 변수의 범주가 모두 두 개인 경우의 카이제곱 검정이므로, *Z검정은 카이제곱 검정의 특수한 경우*라고 할 수 있다. R에서는 ```prop.test``` 명령어를 활용하여 두 집단 간 비율 비교를 수행할 수 있다. "
   ]
  },
  {
   "cell_type": "markdown",
   "metadata": {},
   "source": [
    "#### ◽ 두 이항 변수의 생성"
   ]
  },
  {
   "cell_type": "code",
   "execution_count": 15,
   "metadata": {},
   "outputs": [],
   "source": [
    "detach(ndemog)\n",
    "ndemog$year_c2 <- ifelse(ndemog$year <= 2000, 0, 1)\n",
    "ndemog$cdr_c2 <- ifelse(ndemog$cdr <= 5.3, 0, 1)\n",
    "attach(ndemog)"
   ]
  },
  {
   "cell_type": "markdown",
   "metadata": {},
   "source": [
    "```attach```되어 있는 ```ndemog```를 ```detach```한 다음, ```ifelse```를 활용해 새로운 이항변수 ```year_c2```와 ```cdr_c2```를 생성한다."
   ]
  },
  {
   "cell_type": "code",
   "execution_count": 16,
   "metadata": {},
   "outputs": [
    {
     "data": {
      "text/html": [
       "<pre class=language-r><code>function (test, yes, no) \n",
       "NULL</code></pre>"
      ],
      "text/latex": [
       "\\begin{minted}{r}\n",
       "function (test, yes, no) \n",
       "NULL\n",
       "\\end{minted}"
      ],
      "text/markdown": [
       "```r\n",
       "function (test, yes, no) \n",
       "NULL\n",
       "```"
      ],
      "text/plain": [
       "function (test, yes, no) \n",
       "NULL"
      ]
     },
     "metadata": {},
     "output_type": "display_data"
    }
   ],
   "source": [
    "args(ifelse)"
   ]
  },
  {
   "cell_type": "markdown",
   "metadata": {},
   "source": [
    "```ifelse```문의 용례는 위와 같은데, ```특정 조건```, ```조건 충족 시 줄 값```, ```조건 미충족 시 줄 값``` 순으로 작성한다. 따라서 이렇게 만들어진 ```year_c2```와 ```cdr_c2```는 모두 0 또는 1의 값만 갖는 이항 변수이다."
   ]
  },
  {
   "cell_type": "markdown",
   "metadata": {},
   "source": [
    "#### ◽ 연도별 조사망률 범주의 비율 비교"
   ]
  },
  {
   "cell_type": "code",
   "execution_count": 17,
   "metadata": {},
   "outputs": [
    {
     "data": {
      "text/plain": [
       "\n",
       "\t2-sample test for equality of proportions without continuity\n",
       "\tcorrection\n",
       "\n",
       "data:  table(year_c2, cdr_c2)\n",
       "X-squared = 14.167, df = 1, p-value = 0.0001673\n",
       "alternative hypothesis: two.sided\n",
       "95 percent confidence interval:\n",
       " -0.7939414 -0.3100012\n",
       "sample estimates:\n",
       "   prop 1    prop 2 \n",
       "0.2258065 0.7777778 \n"
      ]
     },
     "metadata": {},
     "output_type": "display_data"
    }
   ],
   "source": [
    "prop.test(table(year_c2, cdr_c2), correct = FALSE)"
   ]
  },
  {
   "cell_type": "markdown",
   "metadata": {},
   "source": [
    "```prop.test``` 명령어는 분할표를 필요로 하기 때문에 ```table``` 명령어로 표를 만들어 준다. ```correct = FALSE```을 통해 통계값의 수정을 하지 않도록 명령한다.    \n",
    "분석 결과 ```p```값은 ```0.0001673```으로 매우 작기 때문에 영가설을 기각한다. (즉, 연도별에 따라 조사망률이 5.3일 확률에 차이가 있다는 결론)"
   ]
  },
  {
   "cell_type": "markdown",
   "metadata": {},
   "source": [
    "#### ◽ 카이제곱 검정 이용\n",
    "그러나, ```prop.test``` 명령어는 단지 **두 집단 간 비율 비교**만 가능하다는 단점이 있다. 일반적인 분할표의 카이제곱 검정을 위해  ```chisq.test```를 사용한다."
   ]
  },
  {
   "cell_type": "code",
   "execution_count": 18,
   "metadata": {},
   "outputs": [
    {
     "ename": "ERROR",
     "evalue": "Error in table(year_c, cdr_c): 객체 'year_c'를 찾을 수 없습니다\n",
     "output_type": "error",
     "traceback": [
      "Error in table(year_c, cdr_c): 객체 'year_c'를 찾을 수 없습니다\nTraceback:\n",
      "1. chisq.test(table(year_c, cdr_c), correct = FALSE)",
      "2. is.data.frame(x)",
      "3. table(year_c, cdr_c)"
     ]
    }
   ],
   "source": [
    "chisq.test(table(year_c, cdr_c), correct = FALSE)"
   ]
  },
  {
   "cell_type": "markdown",
   "metadata": {},
   "source": [
    "카이제곱 검정을 할 때에는 모든 분할표 칸의 기대 빈도가 5 이상이어야 한다. 그렇지 않을 때, R은 경고 문구를 표시한다."
   ]
  },
  {
   "cell_type": "code",
   "execution_count": 19,
   "metadata": {},
   "outputs": [
    {
     "data": {
      "text/plain": [
       "\n",
       "\tPearson's Chi-squared test\n",
       "\n",
       "data:  table(year_c2, cdr_c2)\n",
       "X-squared = 14.167, df = 1, p-value = 0.0001673\n"
      ]
     },
     "metadata": {},
     "output_type": "display_data"
    }
   ],
   "source": [
    "chisq.test(table(year_c2, cdr_c2), correct = FALSE)"
   ]
  },
  {
   "cell_type": "markdown",
   "metadata": {},
   "source": [
    "```year_c2```와 ```cdr_c2``` 의 독립에 대한 영가설을 검정한 결과가 ```prop.test```를 통해 검정한 결과와 같다."
   ]
  },
  {
   "cell_type": "markdown",
   "metadata": {},
   "source": [
    "### ◽ t 검정"
   ]
  },
  {
   "cell_type": "code",
   "execution_count": 20,
   "metadata": {},
   "outputs": [
    {
     "data": {
      "text/plain": [
       "\n",
       "\tWelch Two Sample t-test\n",
       "\n",
       "data:  tfr by year_c2\n",
       "t = 6.4522, df = 30.704, p-value = 3.566e-07\n",
       "alternative hypothesis: true difference in means is not equal to 0\n",
       "95 percent confidence interval:\n",
       " 0.8007496 1.5413794\n",
       "sample estimates:\n",
       "mean in group 0 mean in group 1 \n",
       "       2.352065        1.181000 \n"
      ]
     },
     "metadata": {},
     "output_type": "display_data"
    }
   ],
   "source": [
    "t.test(tfr ~ year_c2)"
   ]
  },
  {
   "cell_type": "markdown",
   "metadata": {},
   "source": [
    "```t.test``` 명령어에서 ```종속 변수```가 먼저 온 다음 ```설명 변수```가 온다. (formula)    \n",
    "```t.test``` 명령어의 초기 설정은 두 집단 간 **이분산**을 가정한다. 만약 **동분산**을 가정하고 싶다면 ```var.equal = TRUE``` 옵션을 사용해야 한다."
   ]
  },
  {
   "cell_type": "markdown",
   "metadata": {},
   "source": [
    "### ◽ F 검정\n",
    "F 검정은 ANOVA(analysis of variance)라고도 하며, **모든 집단의 평균이 같다**는 **영가설**을 검정하며,, 설명 변수가 셋 이상의 범주로 이루어져 있을 때에도 사용할 수 있다. 따라서 **두 집단 간 평균을 비교**하는 t 검정보다 *일반화된 검정*이다."
   ]
  },
  {
   "cell_type": "code",
   "execution_count": 21,
   "metadata": {},
   "outputs": [
    {
     "data": {
      "text/plain": [
       "            Df Sum Sq Mean Sq F value   Pr(>F)    \n",
       "year_c2      1  15.62  15.617   24.15 1.12e-05 ***\n",
       "Residuals   47  30.40   0.647                     \n",
       "---\n",
       "Signif. codes:  0 '***' 0.001 '**' 0.01 '*' 0.05 '.' 0.1 ' ' 1"
      ]
     },
     "metadata": {},
     "output_type": "display_data"
    }
   ],
   "source": [
    "summary(aov(tfr ~ year_c2))"
   ]
  },
  {
   "cell_type": "markdown",
   "metadata": {},
   "source": [
    "```t.test``` 명령어를 수행했을 때처럼 ```종속 변수```가 먼저 오고, 그 다음 ```설명 변수```가 온다.    \n",
    "결과를 보면 ```p```값이 ```1.12e-05***```로 ```year_c2```의 두 범주의 합계출산율 **평균이 동일하다는 영가설**을 기각하게 된다.      \n",
    "그러나 ```t.test```의 ```p```값과 ```aov```의 ```p```값이 다르다. 이는 ```t.test```의 초기 설정이 **이분산**을 가정하는 반면, ```aov```의 초기 설정이 **동분산**을 가정하기 때문이다. t 검정에서 ```var.equal = TRUE```를 실행해 보면"
   ]
  },
  {
   "cell_type": "code",
   "execution_count": 22,
   "metadata": {},
   "outputs": [
    {
     "data": {
      "text/plain": [
       "\n",
       "\tTwo Sample t-test\n",
       "\n",
       "data:  tfr by year_c2\n",
       "t = 4.914, df = 47, p-value = 1.124e-05\n",
       "alternative hypothesis: true difference in means is not equal to 0\n",
       "95 percent confidence interval:\n",
       " 0.6916439 1.6504851\n",
       "sample estimates:\n",
       "mean in group 0 mean in group 1 \n",
       "       2.352065        1.181000 \n"
      ]
     },
     "metadata": {},
     "output_type": "display_data"
    }
   ],
   "source": [
    "t.test(tfr ~ year_c2, var.equal = TRUE)"
   ]
  },
  {
   "cell_type": "markdown",
   "metadata": {},
   "source": [
    "F 검정과 같은 ```p``` 값을 가진다."
   ]
  },
  {
   "cell_type": "code",
   "execution_count": 23,
   "metadata": {},
   "outputs": [
    {
     "data": {
      "text/plain": [
       "      year           cdr             tfr             marn       \n",
       " Min.   :1970   Min.   :5.000   Min.   :0.977   Min.   :239457  \n",
       " 1st Qu.:1982   1st Qu.:5.200   1st Qu.:1.226   1st Qu.:303156  \n",
       " Median :1994   Median :5.500   Median :1.560   Median :330634  \n",
       " Mean   :1994   Mean   :5.814   Mean   :1.922   Mean   :341759  \n",
       " 3rd Qu.:2006   3rd Qu.:6.200   3rd Qu.:2.390   3rd Qu.:390276  \n",
       " Max.   :2018   Max.   :8.000   Max.   :4.540   Max.   :434911  \n",
       "                                                                \n",
       "      le0           year_c2           cdr_c2      \n",
       " Min.   :62.30   Min.   :0.0000   Min.   :0.0000  \n",
       " 1st Qu.:67.08   1st Qu.:0.0000   1st Qu.:0.0000  \n",
       " Median :73.30   Median :0.0000   Median :1.0000  \n",
       " Mean   :72.82   Mean   :0.3673   Mean   :0.5714  \n",
       " 3rd Qu.:78.35   3rd Qu.:1.0000   3rd Qu.:1.0000  \n",
       " Max.   :82.70   Max.   :1.0000   Max.   :1.0000  \n",
       " NA's   :1                                        "
      ]
     },
     "metadata": {},
     "output_type": "display_data"
    }
   ],
   "source": [
    "summary(ndemog)"
   ]
  }
 ],
 "metadata": {
  "kernelspec": {
   "display_name": "R",
   "language": "R",
   "name": "ir"
  },
  "language_info": {
   "codemirror_mode": "r",
   "file_extension": ".r",
   "mimetype": "text/x-r-source",
   "name": "R",
   "pygments_lexer": "r",
   "version": "3.5.1"
  }
 },
 "nbformat": 4,
 "nbformat_minor": 2
}
