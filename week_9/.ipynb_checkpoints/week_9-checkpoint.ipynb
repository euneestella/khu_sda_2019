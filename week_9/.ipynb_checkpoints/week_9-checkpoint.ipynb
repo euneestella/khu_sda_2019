{
 "cells": [
  {
   "cell_type": "markdown",
   "metadata": {},
   "source": [
    "# 👩‍💻 평균과 신뢰구간 그림"
   ]
  },
  {
   "cell_type": "code",
   "execution_count": 1,
   "metadata": {},
   "outputs": [],
   "source": [
    "setwd(\"C:/Users/eunee/khu_sda_2019/data\")\n",
    "load(\"demog_5var.RData\")\n",
    "attach(ndemog)"
   ]
  },
  {
   "cell_type": "markdown",
   "metadata": {},
   "source": [
    "## ✔️ 패키지 설치"
   ]
  },
  {
   "cell_type": "code",
   "execution_count": 2,
   "metadata": {},
   "outputs": [
    {
     "name": "stderr",
     "output_type": "stream",
     "text": [
      "Warning message:\n",
      "\"unable to access index for repository http://www.stats.ox.ac.uk/pub/RWin/bin/windows/contrib/3.5:\n",
      "  URL 'http://www.stats.ox.ac.uk/pub/RWin/bin/windows/contrib/3.5/PACKAGES'를 열 수 없습니다\""
     ]
    },
    {
     "name": "stdout",
     "output_type": "stream",
     "text": [
      "package 'gplots' successfully unpacked and MD5 sums checked\n",
      "\n",
      "The downloaded binary packages are in\n",
      "\tC:\\Users\\eunee\\AppData\\Local\\Temp\\Rtmp8i6JgI\\downloaded_packages\n"
     ]
    }
   ],
   "source": [
    "install.packages(\"gplots\")"
   ]
  },
  {
   "cell_type": "code",
   "execution_count": 3,
   "metadata": {},
   "outputs": [
    {
     "name": "stderr",
     "output_type": "stream",
     "text": [
      "\n",
      "Attaching package: 'gplots'\n",
      "\n",
      "The following object is masked from 'package:stats':\n",
      "\n",
      "    lowess\n",
      "\n"
     ]
    }
   ],
   "source": [
    "library(gplots)"
   ]
  },
  {
   "cell_type": "markdown",
   "metadata": {},
   "source": [
    "## ✔️ 평균과 신뢰구간 그림"
   ]
  },
  {
   "cell_type": "code",
   "execution_count": 4,
   "metadata": {},
   "outputs": [
    {
     "data": {
      "image/png": "[encoded data removed]",
      "text/plain": [
       "plot without title"
      ]
     },
     "metadata": {},
     "output_type": "display_data"
    }
   ],
   "source": [
    "plotmeans(tfr ~ rep(1, length(tfr)))"
   ]
  },
  {
   "cell_type": "markdown",
   "metadata": {},
   "source": [
    "```plotmeans```는 ```종속변수 ~ 설명변수```로 사용하는데, 여기에서는 <u>다른 설명 변수가 존재하지 않는다</u>.   \n",
    "이 경우 ```rep(1,length(tfr))```로 ```tfr```의 사례 수만큼 ```1```의 값을 가지는 객체를 만든다.   \n",
    "   \n",
    "   \n",
    "모집단에 대한 평균과 95% 신뢰구간을 나타낸다. (아래의 ```t.test``` 결과를 그래프로 보여준 것)"
   ]
  },
  {
   "cell_type": "code",
   "execution_count": 5,
   "metadata": {},
   "outputs": [
    {
     "data": {
      "text/plain": [
       "\n",
       "\tOne Sample t-test\n",
       "\n",
       "data:  tfr\n",
       "t = 13.74, df = 48, p-value < 2.2e-16\n",
       "alternative hypothesis: true mean is not equal to 0\n",
       "95 percent confidence interval:\n",
       " 1.640650 2.203105\n",
       "sample estimates:\n",
       "mean of x \n",
       " 1.921878 \n"
      ]
     },
     "metadata": {},
     "output_type": "display_data"
    }
   ],
   "source": [
    "t.test(tfr)"
   ]
  },
  {
   "cell_type": "markdown",
   "metadata": {},
   "source": [
    "이때 p-value가 통상의 유의수준보다 작기 때문에 영가설을 기각한다. (즉, <u>모집단의 평균은 0이 아니다</u>)"
   ]
  },
  {
   "cell_type": "markdown",
   "metadata": {},
   "source": [
    "#### 옵션을 넣은 신뢰구간 그림"
   ]
  },
  {
   "cell_type": "code",
   "execution_count": 6,
   "metadata": {},
   "outputs": [
    {
     "ename": "ERROR",
     "evalue": "Error in plotmeans(tfr ~ rep(1, length(tfr)), xlab = \"TFRs\", ylab = \"Mean and 95% CI\", : 객체 'FFALSE'를 찾을 수 없습니다\n",
     "output_type": "error",
     "traceback": [
      "Error in plotmeans(tfr ~ rep(1, length(tfr)), xlab = \"TFRs\", ylab = \"Mean and 95% CI\", : 객체 'FFALSE'를 찾을 수 없습니다\nTraceback:\n",
      "1. plotmeans(tfr ~ rep(1, length(tfr)), xlab = \"TFRs\", ylab = \"Mean and 95% CI\", \n .     barcol = 1, n.label = FFALSE, legends = \"\")"
     ]
    },
    {
     "data": {
      "image/png": "[encoded data removed]",
      "text/plain": [
       "plot without title"
      ]
     },
     "metadata": {},
     "output_type": "display_data"
    }
   ],
   "source": [
    "plotmeans(tfr ~ rep(1, length(tfr)),\n",
    "         xlab = \"TFRs\", ylab = \"Mean and 95% CI\",\n",
    "         barcol = 1, n.label = FFALSE, legends = \"\")"
   ]
  },
  {
   "cell_type": "markdown",
   "metadata": {},
   "source": [
    "- ```barcol``` : 신뢰구간의 막대 색 (여기서는 검정색으로 바꾼다.)\n",
    "- ```n.label  = FALSE``` : x축 위 사례수를 지운다.\n",
    "- ```legends = \"\"``` : x축 아래 1이라고 적힌 부분을 지운다.\n",
    "    \n",
    "```plot```에서 ```legend```는 범례, ```plotmeans```에서 ```legends```는 x축 값을 의미한다."
   ]
  },
  {
   "cell_type": "markdown",
   "metadata": {},
   "source": [
    "#### 두 변수 사이의 관계를 살펴볼 때, 집단 간 평균 및 신뢰구간의 차이\n",
    "조사망률에 따른 합계출산율의 평균과 신뢰구간을 구하고 싶다. 두 변수는 모두 <u>연속형</u>이기 때문에 설명 변수를 <u>범주화</u>해서 사용한다."
   ]
  },
  {
   "cell_type": "code",
   "execution_count": 7,
   "metadata": {},
   "outputs": [],
   "source": [
    "cdr_c <- cut(cdr, breaks = c(-Inf, 6, 7, Inf),\n",
    "            labels = c(\"LT6\", \"6-LT7\", \"EToMT7\"))"
   ]
  },
  {
   "cell_type": "markdown",
   "metadata": {},
   "source": [
    "```breaks``` 명령어에서 ```right = FALSE``` 옵션을 주면 **a ≤ x < b**로 변한다."
   ]
  },
  {
   "cell_type": "code",
   "execution_count": 8,
   "metadata": {},
   "outputs": [
    {
     "name": "stderr",
     "output_type": "stream",
     "text": [
      "Warning message in arrows(x, li, x, pmax(y - gap, li), col = barcol, lwd = lwd, :\n",
      "\"zero-length arrow is of indeterminate angle and so skipped\"Warning message in arrows(x, ui, x, pmin(y + gap, ui), col = barcol, lwd = lwd, :\n",
      "\"zero-length arrow is of indeterminate angle and so skipped\""
     ]
    },
    {
     "data": {
      "image/png": "[encoded data removed]",
      "text/plain": [
       "plot without title"
      ]
     },
     "metadata": {},
     "output_type": "display_data"
    }
   ],
   "source": [
    "plotmeans(tfr ~ cdr_c)"
   ]
  },
  {
   "cell_type": "markdown",
   "metadata": {},
   "source": [
    "```LT6```의 신뢰구간 길이가 너무 짧아 그릴 수 없다는 경고가 뜬다. 이 경우에도 ```t.test```를 이용하면 신뢰구간 그릴 수 있다."
   ]
  },
  {
   "cell_type": "code",
   "execution_count": 9,
   "metadata": {},
   "outputs": [
    {
     "data": {
      "text/plain": [
       "$LT6\n",
       "\n",
       "\tOne Sample t-test\n",
       "\n",
       "data:  X[[i]]\n",
       "t = 36.033, df = 34, p-value < 2.2e-16\n",
       "alternative hypothesis: true mean is not equal to 0\n",
       "95 percent confidence interval:\n",
       " 1.303301 1.459099\n",
       "sample estimates:\n",
       "mean of x \n",
       "   1.3812 \n",
       "\n",
       "\n",
       "$`6-LT7`\n",
       "\n",
       "\tOne Sample t-test\n",
       "\n",
       "data:  X[[i]]\n",
       "t = 11.333, df = 6, p-value = 2.826e-05\n",
       "alternative hypothesis: true mean is not equal to 0\n",
       "95 percent confidence interval:\n",
       " 2.203303 3.416697\n",
       "sample estimates:\n",
       "mean of x \n",
       "     2.81 \n",
       "\n",
       "\n",
       "$EToMT7\n",
       "\n",
       "\tOne Sample t-test\n",
       "\n",
       "data:  X[[i]]\n",
       "t = 14.311, df = 6, p-value = 7.283e-06\n",
       "alternative hypothesis: true mean is not equal to 0\n",
       "95 percent confidence interval:\n",
       " 3.098180 4.376106\n",
       "sample estimates:\n",
       "mean of x \n",
       " 3.737143 \n",
       "\n"
      ]
     },
     "metadata": {},
     "output_type": "display_data"
    }
   ],
   "source": [
    "tapply(tfr, cdr_c, t.test)"
   ]
  },
  {
   "cell_type": "code",
   "execution_count": 10,
   "metadata": {},
   "outputs": [
    {
     "name": "stderr",
     "output_type": "stream",
     "text": [
      "Warning message in arrows(x, li, x, pmax(y - gap, li), col = barcol, lwd = lwd, :\n",
      "\"zero-length arrow is of indeterminate angle and so skipped\"Warning message in arrows(x, ui, x, pmin(y + gap, ui), col = barcol, lwd = lwd, :\n",
      "\"zero-length arrow is of indeterminate angle and so skipped\""
     ]
    },
    {
     "data": {
      "image/png": "[encoded data removed]",
      "text/plain": [
       "plot without title"
      ]
     },
     "metadata": {},
     "output_type": "display_data"
    }
   ],
   "source": [
    "plotmeans(tfr ~ cdr_c,\n",
    "         xlab = \"TFRs\", ylab = \"Mean and 95% CI\",\n",
    "         barcol = 1, barwidth = 2, n.label = FALSE, connect = FALSE)\n",
    "\n",
    "lines(c(0.97, 1.03), c(1.303, 1.303), lwd = 2)\n",
    "lines(c(0.97, 1.03), c(1.459, 1.459), lwd = 2)\n",
    "lines(c(1,1), c(1.303, 1.459), lwd = 2)"
   ]
  },
  {
   "cell_type": "markdown",
   "metadata": {},
   "source": [
    "- ```barwidth``` : 신뢰구간 선 굵기\n",
    "- ```lines``` 명령어들 : 신뢰구간 새로 그리기"
   ]
  },
  {
   "cell_type": "markdown",
   "metadata": {},
   "source": [
    "조사망률이 높아지면 합계출산율이 높아진다.   \n",
    "1. ```LT6```과 ```6-LT7```의 신뢰구간이 겹치지 않고\n",
    "2. 겹치더라도 ```6-LT7```의 신뢰구간이 ```EToMT7```의 평균을 포함하지 않는다.\n",
    "따라서, 각각 두 집단간 평균 차이가 통계적으로 유의미하다."
   ]
  },
  {
   "cell_type": "code",
   "execution_count": 11,
   "metadata": {},
   "outputs": [
    {
     "data": {
      "text/plain": [
       "\n",
       "\tWelch Two Sample t-test\n",
       "\n",
       "data:  tfr by cdr_c\n",
       "t = -2.5747, df = 11.968, p-value = 0.02438\n",
       "alternative hypothesis: true difference in means is not equal to 0\n",
       "95 percent confidence interval:\n",
       " -1.7119464 -0.1423393\n",
       "sample estimates:\n",
       " mean in group 6-LT7 mean in group EToMT7 \n",
       "            2.810000             3.737143 \n"
      ]
     },
     "metadata": {},
     "output_type": "display_data"
    }
   ],
   "source": [
    "t.test(tfr ~ cdr_c, subset = cdr_c!=\"LT6\")"
   ]
  },
  {
   "cell_type": "markdown",
   "metadata": {},
   "source": [
    "```t.test``` 결과 p-value가 통상의 유의수준보다 작다. 만약 세 집단간 평균비교를 한꺼번에 하고 싶다면"
   ]
  },
  {
   "cell_type": "code",
   "execution_count": 12,
   "metadata": {},
   "outputs": [
    {
     "data": {
      "text/plain": [
       "            Df Sum Sq Mean Sq F value Pr(>F)    \n",
       "cdr_c        2  38.82  19.410   124.1 <2e-16 ***\n",
       "Residuals   46   7.19   0.156                   \n",
       "---\n",
       "Signif. codes:  0 '***' 0.001 '**' 0.01 '*' 0.05 '.' 0.1 ' ' 1"
      ]
     },
     "metadata": {},
     "output_type": "display_data"
    }
   ],
   "source": [
    "summary(aov(tfr ~ cdr_c))"
   ]
  },
  {
   "cell_type": "markdown",
   "metadata": {},
   "source": [
    "p-value가 작기 때문에 모든 집단의 평균이 같다는 영가설을 기각한다."
   ]
  }
 ],
 "metadata": {
  "kernelspec": {
   "display_name": "R",
   "language": "R",
   "name": "ir"
  },
  "language_info": {
   "codemirror_mode": "r",
   "file_extension": ".r",
   "mimetype": "text/x-r-source",
   "name": "R",
   "pygments_lexer": "r",
   "version": "3.5.1"
  }
 },
 "nbformat": 4,
 "nbformat_minor": 2
}
