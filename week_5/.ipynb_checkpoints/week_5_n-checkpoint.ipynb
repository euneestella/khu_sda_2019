{
 "cells": [
  {
   "cell_type": "markdown",
   "metadata": {},
   "source": [
    "## 데이터 불러오기"
   ]
  },
  {
   "cell_type": "code",
   "execution_count": 2,
   "metadata": {},
   "outputs": [],
   "source": [
    "demog <- read.table(\"C:/Users/eunee/sda/data/demog.csv\", sep = \",\")\n",
    "demog <- data.frame(t(demog))"
   ]
  },
  {
   "cell_type": "markdown",
   "metadata": {},
   "source": [
    "## 데이터 정리 1"
   ]
  },
  {
   "cell_type": "code",
   "execution_count": 3,
   "metadata": {},
   "outputs": [],
   "source": [
    "sdemog <- demog[,c(\"X1\", \"X6\", \"X8\", \"X11\", \"X15\")]\n",
    "names(sdemog) <- c(\"year\", \"cdr\", \"tfr\", \"marn\", \"le0\")\n",
    "sdemog <- sdemog[-1, ]\n",
    "rownames(sdemog) <- NULL"
   ]
  },
  {
   "cell_type": "markdown",
   "metadata": {},
   "source": [
    "## 데이터 정리 2"
   ]
  },
  {
   "cell_type": "code",
   "execution_count": 11,
   "metadata": {
    "scrolled": true
   },
   "outputs": [
    {
     "name": "stderr",
     "output_type": "stream",
     "text": [
      "Warning message in eval(expr, envir, enclos):\n",
      "\"강제형변환에 의해 생성된 NA 입니다\""
     ]
    }
   ],
   "source": [
    "sdemog$year_n1 <- as.numeric(sdemog$year)\n",
    "sdemog$year_n2 <- strtoi(sdemog$year)\n",
    "\n",
    "sdemog$year <- as.character(sdemog$year)\n",
    "sdemog$year[length(sdemog$year)] <- \"2018\"\n",
    "sdemog$year_n3 <- strtoi(sdemog$year)\n",
    "\n",
    "sdemog$cdr_n1 <- as.numeric(as.character(sdemog$cdr))\n",
    "\n",
    "sdemog$marn_c <- as.character(sdemog$marn)\n",
    "sdemog$marn_noc <- gsub(\",\",\"\", sdemog$marn_c)\n",
    "sdemog$marn_n2 <- as.numeric(sdemog$marn_noc)\n",
    "\n",
    "sdemog$tfr_n <- as.numeric(as.character(sdemog$tfr))\n",
    "sdemog$le0_n <- as.numeric(as.character(sdemog$le0))\n",
    "\n",
    "sdemog$year_c <- floor(sdemog$year_n3/10)-197\n",
    "sdemog$tfr_c <- cut(sdemog$tfr_n, breaks = c(-Inf, 1.3, 2.1, Inf), labels = c(\"llf\", \"repl\", \"high\"))\n",
    "\n",
    "ndemog <- sdemog[, c(\"year_n3\", \"cdr_n1\", \"tfr_n\", \"marn_n2\", \"le0_n\", \"year_c\", \"tfr_c\")]\n",
    "names(ndemog) <- c(\"year\", \"cdr\", \"tfr\", \"marn\", \"le0\", \"year_c\", \"tfr_c\")"
   ]
  },
  {
   "cell_type": "markdown",
   "metadata": {},
   "source": [
    "## 작업 공간 저장"
   ]
  },
  {
   "cell_type": "code",
   "execution_count": 13,
   "metadata": {},
   "outputs": [],
   "source": [
    "save(ndemog, file = \"C:/Users/eunee/khu_sda_2019/data/demog_5var.RData\")\n",
    "save(ndemog, file = \"C:/Users/eunee/khu_sda_2019/data/demog_2.RData\")\n",
    "\n",
    "save.image(file = \"C:/Users/eunee/khu_sda_2019/data/demog.RData\")"
   ]
  }
 ],
 "metadata": {
  "kernelspec": {
   "display_name": "R",
   "language": "R",
   "name": "ir"
  },
  "language_info": {
   "codemirror_mode": "r",
   "file_extension": ".r",
   "mimetype": "text/x-r-source",
   "name": "R",
   "pygments_lexer": "r",
   "version": "3.5.1"
  }
 },
 "nbformat": 4,
 "nbformat_minor": 2
}
